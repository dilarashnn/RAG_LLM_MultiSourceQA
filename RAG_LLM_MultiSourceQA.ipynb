{
  "nbformat": 4,
  "nbformat_minor": 0,
  "metadata": {
    "colab": {
      "provenance": []
    },
    "kernelspec": {
      "name": "python3",
      "display_name": "Python 3"
    },
    "language_info": {
      "name": "python"
    }
  },
  "cells": [
    {
      "cell_type": "code",
      "source": [
        "# 2️⃣ OpenAI API Key ayarla\n",
        "# -------------------------------\n",
        "import os\n",
        "os.environ[\"OPENAI_API_KEY\"] = \"\"  # kendi key'ini buraya yapıştır"
      ],
      "metadata": {
        "id": "hYLFxlUIWuSx"
      },
      "execution_count": 34,
      "outputs": []
    },
    {
      "cell_type": "code",
      "source": [
        "# 3️⃣ Kütüphaneler\n",
        "# -------------------------------\n",
        "import fitz  # PyMuPDF\n",
        "import pandas as pd\n",
        "from tqdm import tqdm\n",
        "from langchain.text_splitter import CharacterTextSplitter\n",
        "from langchain.vectorstores import Chroma\n",
        "from langchain_openai import OpenAIEmbeddings\n",
        "from langchain.chains import RetrievalQA\n",
        "from langchain.chat_models import ChatOpenAI\n",
        "import csv"
      ],
      "metadata": {
        "id": "uTGz_8eqWysI"
      },
      "execution_count": 35,
      "outputs": []
    },
    {
      "cell_type": "code",
      "source": [
        "# 4️⃣ Dokümanlardan Metin Çekme\n",
        "# -------------------------------\n",
        "def extract_text_from_pdf(pdf_path):\n",
        "    doc = fitz.open(pdf_path)\n",
        "    text = \"\"\n",
        "    for page in doc:\n",
        "        text += page.get_text()\n",
        "    return text\n",
        "\n",
        "def extract_text_from_csv(csv_path):\n",
        "    df = pd.read_csv(csv_path)\n",
        "    texts = []\n",
        "    for _, row in tqdm(df.iterrows(), total=df.shape[0], desc=\"CSV Satırlarını İşliyor\"):\n",
        "        row_text = ' | '.join(row.astype(str))\n",
        "        texts.append(row_text)\n",
        "    return '\\n'.join(texts)"
      ],
      "metadata": {
        "id": "2S4Jp3_6YhTW"
      },
      "execution_count": 36,
      "outputs": []
    },
    {
      "cell_type": "code",
      "source": [
        "# Dosya yolları\n",
        "pdf_text = extract_text_from_pdf(\"/content/Document 1.pdf\")\n",
        "csv_text = extract_text_from_csv(\"product_specs.csv\")\n",
        "\n",
        "print(f\"PDF metin uzunluğu: {len(pdf_text)} karakter\")\n",
        "print(f\"CSV metin uzunluğu: {len(csv_text)} karakter\")"
      ],
      "metadata": {
        "colab": {
          "base_uri": "https://localhost:8080/"
        },
        "id": "YIVQZfDqYmwl",
        "outputId": "01b5a2aa-0d2d-44c3-fde8-0a4e4969c913"
      },
      "execution_count": 37,
      "outputs": [
        {
          "output_type": "stream",
          "name": "stderr",
          "text": [
            "CSV Satırlarını İşliyor: 100%|██████████| 3000/3000 [00:00<00:00, 5439.10it/s]"
          ]
        },
        {
          "output_type": "stream",
          "name": "stdout",
          "text": [
            "PDF metin uzunluğu: 2980 karakter\n",
            "CSV metin uzunluğu: 146002 karakter\n"
          ]
        },
        {
          "output_type": "stream",
          "name": "stderr",
          "text": [
            "\n"
          ]
        }
      ]
    },
    {
      "cell_type": "code",
      "source": [
        "# 5️⃣ Text Splitter (Token limitini önlemek için)\n",
        "text_splitter = CharacterTextSplitter(chunk_size=500, chunk_overlap=50)\n",
        "\n",
        "# CSV'yi bloklara ayır\n",
        "chunk_size_lines = 500\n",
        "csv_lines = csv_text.split('\\n')\n",
        "csv_chunks = [csv_lines[i:i+chunk_size_lines] for i in range(0, len(csv_lines), chunk_size_lines)]\n",
        "\n",
        "docs = []\n",
        "for chunk in csv_chunks:\n",
        "    chunk_text = \"\\n\".join(chunk)\n",
        "    docs += text_splitter.create_documents([chunk_text])\n",
        "\n",
        "# PDF metni için de doküman oluştur\n",
        "docs += text_splitter.create_documents([pdf_text])"
      ],
      "metadata": {
        "id": "sO0leXULYrFT"
      },
      "execution_count": 38,
      "outputs": []
    },
    {
      "cell_type": "code",
      "source": [
        "# 6️⃣ Embedding oluştur ve Chroma vector store\n",
        "# -------------------------------\n",
        "embeddings = OpenAIEmbeddings()\n",
        "vectordb = Chroma.from_documents(docs, embeddings, persist_directory=\"chroma_db\")\n",
        "\n",
        "# RAG Retrieval QA zinciri\n",
        "retriever = vectordb.as_retriever(search_kwargs={\"k\":3})\n",
        "qa_chain = RetrievalQA.from_chain_type(\n",
        "    llm=ChatOpenAI(temperature=0, model_name=\"gpt-3.5-turbo\"),\n",
        "    retriever=retriever\n",
        ")\n"
      ],
      "metadata": {
        "id": "y9nupmscYuR7"
      },
      "execution_count": 39,
      "outputs": []
    },
    {
      "cell_type": "code",
      "source": [
        "import re\n",
        "\n",
        "# 9️⃣ Sorgu Döngüsü\n",
        "while True:\n",
        "    query = input(\"Soru: \")\n",
        "    if query.lower() in ['exit', 'quit']:\n",
        "        print(\"Programdan çıkılıyor.\")\n",
        "        break\n",
        "\n",
        "    # CSV ürün bazlı filtreleme\n",
        "    if \"product\" in query.lower() or \"ürün\" in query.lower():\n",
        "        product_ids = re.findall(r'#?(\\d+)', query)\n",
        "        docs_temp = []\n",
        "\n",
        "        for pid in product_ids:\n",
        "            filtered_rows = df[df[\"Product\"].astype(str).str.contains(f\"#{pid}\")]\n",
        "            if not filtered_rows.empty:\n",
        "                csv_text_filtered = \"\\n\".join(filtered_rows.astype(str).apply(lambda x: \" | \".join(x), axis=1))\n",
        "                docs_temp += text_splitter.create_documents([csv_text_filtered])\n",
        "\n",
        "        docs_temp += text_splitter.create_documents([pdf_text])\n",
        "\n",
        "        vectordb_temp = Chroma.from_documents(docs_temp, embeddings)\n",
        "        retriever_temp = vectordb_temp.as_retriever(search_kwargs={\"k\":3})\n",
        "        qa_chain_temp = RetrievalQA.from_chain_type(\n",
        "            llm=ChatOpenAI(temperature=0, model_name=\"gpt-3.5-turbo\"),\n",
        "            retriever=retriever_temp\n",
        "        )\n",
        "        answer = qa_chain_temp.invoke({\"query\": query})[\"result\"]\n",
        "\n",
        "    else:\n",
        "        answer = qa_chain.invoke({\"query\": query})[\"result\"]\n",
        "\n",
        "    print(\"\\nCevap:\", answer, \"\\n\")\n",
        "\n",
        "    # Loglama\n",
        "    with open(log_file, 'a', newline='', encoding='utf-8') as f:\n",
        "        writer = csv.writer(f)\n",
        "        writer.writerow([query, answer])"
      ],
      "metadata": {
        "colab": {
          "base_uri": "https://localhost:8080/"
        },
        "id": "Wjgb2rnUZNoV",
        "outputId": "8920a989-55a2-4a9b-a0cd-1b6feb51d94c"
      },
      "execution_count": null,
      "outputs": [
        {
          "output_type": "stream",
          "name": "stdout",
          "text": [
            "Soru: En ağır 5 ürünü (Weight (kg)) sırala ve listeler misin?\n",
            "\n",
            "Cevap: En ağır 5 ürünü (Weight (kg)) sıralayarak listeliyorum:\n",
            "1. Product D #588 | 24.97 kg\n",
            "2. Product A #557 | 24.46 kg\n",
            "3. Product X #523 | 24.55 kg\n",
            "4. Product B #547 | 24.1 kg\n",
            "5. Product B #554 | 23.53 kg \n",
            "\n",
            "Soru: Weight (kg) sütununa göre en ağır ürünler hangileri?\n",
            "\n",
            "Cevap: En ağır ürünleri belirlemek için ürünlerin ağırlıklarını kontrol etmek gerekmektedir. En ağır ürünlerin listesi aşağıdaki gibidir:\n",
            "\n",
            "1. Product D #588 | 24.97 kg\n",
            "2. Product A #557 | 24.46 kg\n",
            "3. Product X #573 | 24.55 kg\n",
            "4. Product B #547 | 24.1 kg\n",
            "5. Product B #555 | 21.73 kg \n",
            "\n",
            "Soru: En fazla ürün hangi Material türünde?\n",
            "\n",
            "Cevap: En fazla ürün Titanium malzeme türündedir. Toplamda 11 adet ürün Titanium malzemesine sahiptir. \n",
            "\n",
            "Soru: Quantity Available en yüksek olan ürünler hangileri?\n",
            "\n",
            "Cevap: En yüksek miktarda stokta bulunan ürünler aşağıdaki gibidir:\n",
            "\n",
            "- Ürün A #53 | 297 adet\n",
            "- Ürün C #541 | 299 adet\n",
            "- Ürün D #503 | 286 adet\n",
            "- Ürün A #557 | 283 adet\n",
            "- Ürün A #558 | 283 adet\n",
            "- Ürün Y #597 | 287 adet \n",
            "\n",
            "Soru: Bu şirketin ürün politikası nedir?\n",
            "\n",
            "Cevap: Üzgünüm, verilen bilgiler arasında şirketin ürün politikası hakkında herhangi bir bilgi bulunmamaktadır. Bu konuda size yardımcı olamam. \n",
            "\n",
            "Soru: Ürünlerin garanti süresi ile ilgili detayları açıkla.\n",
            "\n",
            "Cevap: Üzgünüm, ürünlerin garanti süresi ile ilgili detaylar veri setinde bulunmamaktadır. \n",
            "\n",
            "Soru: Company policies.pdf dosyasındaki güvenlik yönergelerini özetle.\"\n",
            "\n",
            "Cevap: Şirketin güvenlik politikaları şunları içerir:\n",
            "\n",
            "1. Güçlü şifreler gereklidir; her 90 günde bir değiştirilmelidir.\n",
            "2. Çok faktörlü kimlik doğrulama (MFA) tüm hesaplar için zorunludur.\n",
            "3. Yetkisiz yazılım yüklemesi yasaktır.\n",
            "4. Kişisel cihazlar şirket ağına bağlanmak için IT onayı gerektirir.\n",
            "5. Düzenli siber güvenlik eğitimi zorunludur. \n",
            "\n",
            "Soru: Yeni ürünlerin Material ve Weight kriterleri nelerdir?\n",
            "\n",
            "Cevap: Yeni ürünlerin Material ve Weight kriterleri aşağıdaki gibidir:\n",
            "\n",
            "Product C #2345 | 13.18 | 97x34x19 | Titanium | 226\n",
            "\n",
            "Product X #1500 | 9.94 | 72x22x37 | Iron | 282 \n",
            "\n",
            "Soru: Şirketin normal çalışma saatleri nedir?\n",
            "\n",
            "Cevap: Şirketin normal çalışma saatleri Pazartesi'den Cuma'ya 9:00 - 18:00 arasıdır. \n",
            "\n",
            "Soru: Uzaktan çalışma kaç gün mümkün ve hangi şartlara bağlı?\n",
            "\n",
            "Cevap: Uzaktan çalışma, haftada en fazla 2 gün mümkündür ve yöneticinin onayına tabidir. \n",
            "\n",
            "Soru: Doğum izni nasıl uygulanıyor?\n",
            "\n",
            "Cevap: Doğum izni, yerel iş yasalarına göre uygulanır. Şirket politikaları genellikle yerel yasalara uygun olarak doğum izni sağlar. Bu nedenle, doğum izni ile ilgili detayları öğrenmek için şirketinizin insan kaynakları departmanıyla iletişime geçmeniz en doğru adım olacaktır. \n",
            "\n",
            "Soru: Yetkisiz yazılım yüklemek serbest mi?\n",
            "\n",
            "Cevap: Yetkisiz yazılım yükleme, şirket politikalarına göre yasaktır. Bu nedenle, yetkisiz yazılım yüklemek serbest değildir. \n",
            "\n",
            "Soru: En ağır 3 ürünün ağırlıkları nedir ve çalışanların fazla mesai politikası bu ürünleri taşımaya uygun mu?\n",
            "\n",
            "Cevap: Üzgünüm, belirtilen metinlerde çalışanların fazla mesai politikasının belirli ürünlerin ağırlıklarına uygun olup olmadığına dair bir bilgi bulunmamaktadır. Bu nedenle, belirli ürünlerin ağırlıklarını veremem. Eğer belirli bir ürünün ağırlığı hakkında bilgi verirseniz, o ürünün taşınmasıyla ilgili politikaları kontrol etmenizde yardımcı olabilirim. \n",
            "\n",
            "Soru: Weight (kg) sütunu 50’den fazla olan ürünler kaç tanedir ve bunları taşıyacak çalışanlar hangi saatler arasında çalışabilir?\n",
            "\n",
            "Cevap: 50 kilogramdan fazla olan ürünlerin sayısını belirlemek için verilerde \"Weight (kg)\" sütununda 50'den fazla olan ürünleri kontrol etmemiz gerekiyor. Ancak, verilerde bu bilgiye dair herhangi bir detay bulunmamaktadır. Dolayısıyla, bu soruya yanıt veremem. Çalışanların hangi saatler arasında çalışabileceği konusunda ise şirket politikalarına göre çalışma saatleri 9:00 - 18:00 arasında belirlenmiştir.柴\n",
            "Bu saatler dışında esnek çalışma saatleri müdür onayı ile sağlanabilir. Bu nedenle, çalışanlar 9:00 - 18:00 saatleri arasında çalışabilirler. \n",
            "\n",
            "Soru: En ağır 5 ürünü sırala ve çalışanların fazla mesai politikası bu ürünleri taşımaya uygun mu?\n",
            "\n",
            "Cevap: Üzgünüm, verdiğiniz bilgiler arasında \"en ağır 5 ürün\" hakkında bir bilgi bulunmamaktadır. Ayrıca, çalışanların fazla mesai politikası, belirli ürünlerin taşınabilirliği hakkında spesifik bir bilgi içermemektedir. Bu nedenle, bu konuda size yardımcı olamam. \n",
            "\n",
            "Soru: 50 kg üzerindeki ürünler hangileri?\n",
            "\n",
            "Cevap: Product Y #500 ve Product D #503, 50 kg üzerindeki ürünlerdir. \n",
            "\n"
          ]
        }
      ]
    }
  ]
}